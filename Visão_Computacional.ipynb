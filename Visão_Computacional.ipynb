{
  "nbformat": 4,
  "nbformat_minor": 0,
  "metadata": {
    "colab": {
      "name": "Visão Computacional",
      "provenance": [],
      "collapsed_sections": []
    },
    "kernelspec": {
      "display_name": "Python 3",
      "name": "python3"
    }
  },
  "cells": [
    {
      "cell_type": "markdown",
      "metadata": {
        "id": "MhoQ0WE77laV"
      },
      "source": [
        "##### Copyright 2018 The TensorFlow Authors."
      ]
    },
    {
      "cell_type": "markdown",
      "metadata": {
        "id": "jYysdyb-CaWM"
      },
      "source": [
        "Classificando Imagens the roupas"
      ]
    },
    {
      "cell_type": "code",
      "metadata": {
        "id": "dzLKpmZICaWN",
        "colab": {
          "base_uri": "https://localhost:8080/"
        },
        "outputId": "52ec80f1-8f82-4009-a248-c1dff2d54d97"
      },
      "source": [
        "# TensorFlow and tf.keras\n",
        "import tensorflow as tf\n",
        "\n",
        "# Helper libraries\n",
        "import numpy as np\n",
        "import matplotlib.pyplot as plt\n",
        "\n",
        "print(tf.__version__)"
      ],
      "execution_count": null,
      "outputs": [
        {
          "output_type": "stream",
          "text": [
            "2.4.0\n"
          ],
          "name": "stdout"
        }
      ]
    },
    {
      "cell_type": "markdown",
      "metadata": {
        "id": "yR0EdgrLCaWR"
      },
      "source": [
        "## Importar o conjunto de dados Fashion MNIST"
      ]
    },
    {
      "cell_type": "markdown",
      "metadata": {
        "id": "DLdCchMdCaWQ"
      },
      "source": [
        "Este guia usa [Fashion MNIST] (https://github.com/zalandoresearch/fashion-mnist) conjunto de dados que contém 70.000 imagens em tons de cinza em 10 categorias. As imagens mostram peças individuais de roupa em baixa resolução (28 por 28 pixels), como pode ser visto aqui:\n",
        "\n",
        "<table>\n",
        "  <tr> <td>\n",
        "    <img src = \"https://tensorflow.org/images/fashion-mnist-sprite.png\"\n",
        "         alt = \"Fashion MNIST sprite\" width = \"600\">\n",
        "  </td> </tr>\n",
        "  <tr> <td align = \"center\">\n",
        "    <b> Figura 1. </b> <a href=\"https://github.com/zalandoresearch/fashion-mnist\"> Amostras do Fashion-MNIST </a> (por Zalando, licença do MIT). <br/> & nbsp;\n",
        "  </td> </tr>\n",
        "</table>\n",
        "\n",
        "O Fashion MNIST pretende ser uma substituição imediata para o conjunto de dados clássico [MNIST] (http://yann.lecun.com/exdb/mnist/) - frequentemente usado como o \"Hello, World\" de programas de aprendizado de máquina para visão computacional . O conjunto de dados MNIST contém imagens de dígitos escritos à mão (0, 1, 2, etc.) em um formato idêntico ao das peças de roupa que você usará aqui.\n",
        "\n",
        "Este guia usa o Fashion MNIST para variar e porque é um problema um pouco mais desafiador do que o MNIST normal. Ambos os conjuntos de dados são relativamente pequenos e são usados ​​para verificar se um algoritmo funciona conforme o esperado. Eles são bons pontos de partida para testar e depurar código.\n",
        "\n",
        "Aqui, 60.000 imagens são usadas para treinar a rede e 10.000 imagens para avaliar a precisão com que a rede aprendeu a classificar imagens. Você pode acessar o Fashion MNIST diretamente do TensorFlow. Importe e carregue os dados do Fashion MNIST diretamente do TensorFlow:"
      ]
    },
    {
      "cell_type": "code",
      "metadata": {
        "id": "7MqDQO0KCaWS",
        "colab": {
          "base_uri": "https://localhost:8080/"
        },
        "outputId": "84e5296b-5125-4f58-f703-b56df98df5f7"
      },
      "source": [
        "fashion_mnist = tf.keras.datasets.fashion_mnist\n",
        "\n",
        "(train_images, train_labels), (test_images, test_labels) = fashion_mnist.load_data()"
      ],
      "execution_count": null,
      "outputs": [
        {
          "output_type": "stream",
          "text": [
            "Downloading data from https://storage.googleapis.com/tensorflow/tf-keras-datasets/train-labels-idx1-ubyte.gz\n",
            "32768/29515 [=================================] - 0s 0us/step\n",
            "Downloading data from https://storage.googleapis.com/tensorflow/tf-keras-datasets/train-images-idx3-ubyte.gz\n",
            "26427392/26421880 [==============================] - 0s 0us/step\n",
            "Downloading data from https://storage.googleapis.com/tensorflow/tf-keras-datasets/t10k-labels-idx1-ubyte.gz\n",
            "8192/5148 [===============================================] - 0s 0us/step\n",
            "Downloading data from https://storage.googleapis.com/tensorflow/tf-keras-datasets/t10k-images-idx3-ubyte.gz\n",
            "4423680/4422102 [==============================] - 0s 0us/step\n"
          ],
          "name": "stdout"
        }
      ]
    },
    {
      "cell_type": "markdown",
      "metadata": {
        "id": "t9FDsUlxCaWW"
      },
      "source": [
        "\n",
        "Carregar o conjunto de dados retorna quatro matrizes NumPy:\n",
        "\n",
        "* Os arrays `train_images` e` train_labels` são o * conjunto de treinamento * —os dados que o modelo usa para aprender.\n",
        "* O modelo é testado contra o * conjunto de teste *, os arrays `test_images` e` test_labels`.\n",
        "\n",
        "As imagens são matrizes NumPy de 28x28, com valores de pixel variando de 0 a 255. Os * rótulos * são uma matriz de inteiros, variando de 0 a 9. Eles correspondem à * classe * de roupa que a imagem representa:\n",
        "\n",
        "<table>\n",
        "  <tr>\n",
        "    <th> Etiqueta </th>\n",
        "    <th> Classe </th>\n",
        "  </tr>\n",
        "  <tr>\n",
        "    <td> 0 </td>\n",
        "    <td> Camisa / top </td>\n",
        "  </tr>\n",
        "  <tr>\n",
        "    <td> 1 </td>\n",
        "    <td> Calças </td>\n",
        "  </tr>\n",
        "    <tr>\n",
        "    <td> 2 </td>\n",
        "    <td> Pulôver </td>\n",
        "  </tr>\n",
        "    <tr>\n",
        "    <td> 3 </td>\n",
        "    <td> Vestido </td>\n",
        "  </tr>\n",
        "    <tr>\n",
        "    <td> 4 </td>\n",
        "    <td> Casaco </td>\n",
        "  </tr>\n",
        "    <tr>\n",
        "    <td> 5 </td>\n",
        "    <td> Sandália </td>\n",
        "  </tr>\n",
        "    <tr>\n",
        "    <td> 6 </td>\n",
        "    <td> Camiseta </td>\n",
        "  </tr>\n",
        "    <tr>\n",
        "    <td> 7 </td>\n",
        "    <td> Tênis </td>\n",
        "  </tr>\n",
        "    <tr>\n",
        "    <td> 8 </td>\n",
        "    <td> Bolsa </td>\n",
        "  </tr>\n",
        "    <tr>\n",
        "    <td> 9 </td>\n",
        "    <td> Botas </td>\n",
        "  </tr>\n",
        "</table>\n",
        "\n",
        "Cada imagem é mapeada para um único rótulo. Como os * nomes das classes * não estão incluídos no conjunto de dados, armazene-os aqui para usar mais tarde ao plotar as imagens:"
      ]
    },
    {
      "cell_type": "code",
      "metadata": {
        "id": "IjnLH5S2CaWx"
      },
      "source": [
        "class_names = ['T-shirt/top', 'Trouser', 'Pullover', 'Dress', 'Coat',\n",
        "               'Sandal', 'Shirt', 'Sneaker', 'Bag', 'Ankle boot']"
      ],
      "execution_count": null,
      "outputs": []
    },
    {
      "cell_type": "markdown",
      "metadata": {
        "id": "Brm0b_KACaWX"
      },
      "source": [
        "## Explore os dados\n",
        "\n",
        "Vamos explorar o formato do conjunto de dados antes de treinar o modelo. O seguinte mostra que há 60.000 imagens no conjunto de treinamento, com cada imagem representada como 28 x 28 pixels:"
      ]
    },
    {
      "cell_type": "code",
      "metadata": {
        "id": "zW5k_xz1CaWX",
        "colab": {
          "base_uri": "https://localhost:8080/"
        },
        "outputId": "76ddccf5-10e7-472b-9b79-e61ab72292f6"
      },
      "source": [
        "train_images.shape"
      ],
      "execution_count": null,
      "outputs": [
        {
          "output_type": "execute_result",
          "data": {
            "text/plain": [
              "(60000, 28, 28)"
            ]
          },
          "metadata": {
            "tags": []
          },
          "execution_count": 5
        }
      ]
    },
    {
      "cell_type": "markdown",
      "metadata": {
        "id": "cIAcvQqMCaWf"
      },
      "source": [
        "Da mesma forma, existem 60.000 rótulos no conjunto de treinamento:"
      ]
    },
    {
      "cell_type": "code",
      "metadata": {
        "id": "TRFYHB2mCaWb",
        "colab": {
          "base_uri": "https://localhost:8080/"
        },
        "outputId": "5404e474-0500-462e-afdd-76325adbcc70"
      },
      "source": [
        "len(train_labels)"
      ],
      "execution_count": null,
      "outputs": [
        {
          "output_type": "execute_result",
          "data": {
            "text/plain": [
              "60000"
            ]
          },
          "metadata": {
            "tags": []
          },
          "execution_count": 6
        }
      ]
    },
    {
      "cell_type": "markdown",
      "metadata": {
        "id": "YSlYxFuRCaWk"
      },
      "source": [
        "Cada rótulo é um número inteiro entre 0 e 9:"
      ]
    },
    {
      "cell_type": "code",
      "metadata": {
        "id": "XKnCTHz4CaWg",
        "colab": {
          "base_uri": "https://localhost:8080/"
        },
        "outputId": "9d8d16ac-a867-4e9f-cda8-de23f774bd07"
      },
      "source": [
        "train_labels"
      ],
      "execution_count": null,
      "outputs": [
        {
          "output_type": "execute_result",
          "data": {
            "text/plain": [
              "array([9, 0, 0, ..., 3, 0, 5], dtype=uint8)"
            ]
          },
          "metadata": {
            "tags": []
          },
          "execution_count": 7
        }
      ]
    },
    {
      "cell_type": "markdown",
      "metadata": {
        "id": "TMPI88iZpO2T"
      },
      "source": [
        "Existem 10.000 imagens no conjunto de teste. Novamente, cada imagem é representada como 28 x 28 pixels:"
      ]
    },
    {
      "cell_type": "code",
      "metadata": {
        "id": "2KFnYlcwCaWl",
        "colab": {
          "base_uri": "https://localhost:8080/"
        },
        "outputId": "cb09897b-d024-4be2-f0d1-e2b25ac4ec86"
      },
      "source": [
        "test_images.shape"
      ],
      "execution_count": null,
      "outputs": [
        {
          "output_type": "execute_result",
          "data": {
            "text/plain": [
              "(10000, 28, 28)"
            ]
          },
          "metadata": {
            "tags": []
          },
          "execution_count": 8
        }
      ]
    },
    {
      "cell_type": "markdown",
      "metadata": {
        "id": "rd0A0Iu0CaWq"
      },
      "source": [
        "E o conjunto de teste contém 10.000 rótulos de imagens:"
      ]
    },
    {
      "cell_type": "code",
      "metadata": {
        "id": "iJmPr5-ACaWn",
        "colab": {
          "base_uri": "https://localhost:8080/"
        },
        "outputId": "1ffa74aa-3661-4054-a02d-4fb226ab46c9"
      },
      "source": [
        "len(test_labels)"
      ],
      "execution_count": null,
      "outputs": [
        {
          "output_type": "execute_result",
          "data": {
            "text/plain": [
              "10000"
            ]
          },
          "metadata": {
            "tags": []
          },
          "execution_count": 9
        }
      ]
    },
    {
      "cell_type": "markdown",
      "metadata": {
        "id": "ES6uQoLKCaWr"
      },
      "source": [
        "## Pré-processar os dados\n",
        "\n",
        "Os dados devem ser pré-processados antes de treinar a rede. Se você inspecionar a primeira imagem no conjunto de treinamento, verá que os valores de pixel estão no intervalo de 0 a 255:"
      ]
    },
    {
      "cell_type": "code",
      "metadata": {
        "id": "m4VEw8Ud9Quh",
        "colab": {
          "base_uri": "https://localhost:8080/",
          "height": 265
        },
        "outputId": "ae7731ca-67c8-409c-bca5-c2edc9df2ecc"
      },
      "source": [
        "plt.figure()\n",
        "plt.imshow(train_images[100])\n",
        "plt.colorbar()\n",
        "plt.grid(False)\n",
        "plt.show()"
      ],
      "execution_count": null,
      "outputs": [
        {
          "output_type": "display_data",
          "data": {
            "image/png": "[encoded data removed]",
            "text/plain": [
              "<Figure size 432x288 with 2 Axes>"
            ]
          },
          "metadata": {
            "tags": [],
            "needs_background": "light"
          }
        }
      ]
    },
    {
      "cell_type": "markdown",
      "metadata": {
        "id": "Wz7l27Lz9S1P"
      },
      "source": [
        "Dimensione esses valores para um intervalo de 0 a 1 antes de alimentá-los para o modelo de rede neural. Para fazer isso, divida os valores por 255. É importante que o conjunto de treinamento e o conjunto de teste sejam pré-processados da mesma maneira:"
      ]
    },
    {
      "cell_type": "code",
      "metadata": {
        "id": "bW5WzIPlCaWv"
      },
      "source": [
        "train_images = train_images / 255.0\n",
        "\n",
        "test_images = test_images / 255.0"
      ],
      "execution_count": null,
      "outputs": []
    },
    {
      "cell_type": "markdown",
      "metadata": {
        "id": "Ee638AlnCaWz"
      },
      "source": [
        "Para verificar se os dados estão no formato correto e se você está pronto para construir e treinar a rede, vamos exibir as primeiras 25 imagens do conjunto de treinamento e exibir o nome da classe abaixo de cada imagem."
      ]
    },
    {
      "cell_type": "code",
      "metadata": {
        "id": "oZTImqg_CaW1",
        "colab": {
          "base_uri": "https://localhost:8080/",
          "height": 589
        },
        "outputId": "027e3df8-cef8-4762-f179-52257876e83c"
      },
      "source": [
        "plt.figure(figsize=(10,10))\n",
        "for i in range(25):\n",
        "    plt.subplot(5,5,i+1)\n",
        "    plt.xticks([])\n",
        "    plt.yticks([])\n",
        "    plt.grid(False)\n",
        "    plt.imshow(train_images[i], cmap=plt.cm.binary)\n",
        "    plt.xlabel(class_names[train_labels[i]])\n",
        "plt.show()"
      ],
      "execution_count": null,
      "outputs": [
        {
          "output_type": "display_data",
          "data": {
            "image/png": "[encoded data removed]",
            "text/plain": [
              "<Figure size 720x720 with 25 Axes>"
            ]
          },
          "metadata": {
            "tags": []
          }
        }
      ]
    },
    {
      "cell_type": "markdown",
      "metadata": {
        "id": "59veuiEZCaW4"
      },
      "source": [
        "## Construir o modelo\n",
        "\n",
        "A construção da rede neural requer a configuração das camadas do modelo e, a seguir, a compilação do modelo."
      ]
    },
    {
      "cell_type": "markdown",
      "metadata": {
        "id": "Gxg1XGm0eOBy"
      },
      "source": [
        "### Configure as camadas\n",
        "\n",
        "O bloco de construção básico de uma rede neural é a * camada *. As camadas extraem representações dos dados alimentados nelas. Felizmente, essas representações são significativas para o problema em questão.\n",
        "\n",
        "A maior parte do aprendizado profundo consiste em encadear camadas simples. A maioria das camadas, como `tf.keras.layers.Dense`, tem parâmetros que são aprendidos durante o treinamento."
      ]
    },
    {
      "cell_type": "code",
      "metadata": {
        "id": "9ODch-OFCaW4"
      },
      "source": [
        "model = tf.keras.Sequential([\n",
        "    tf.keras.layers.Flatten(input_shape=(28, 28)),\n",
        "    tf.keras.layers.Dense(128, activation='relu'),\n",
        "    tf.keras.layers.Dense(10)\n",
        "])"
      ],
      "execution_count": null,
      "outputs": []
    },
    {
      "cell_type": "markdown",
      "metadata": {
        "id": "gut8A_7rCaW6"
      },
      "source": [
        "A primeira camada nesta rede, tf.keras.layers.Flatten, transforma o formato das imagens de uma matriz bidimensional (de 28 por 28 pixels) em uma matriz unidimensional (de 28 * 28 = 784 pixels). Pense nesta camada como desempilhar linhas de pixels na imagem e alinhá-los. Esta camada não tem parâmetros para aprender; ele apenas reformata os dados.\n",
        "\n",
        "Depois que os pixels são achatados, a rede consiste em uma sequência de duas camadas tf.keras.layers.Dense. Essas são camadas neurais densamente conectadas ou totalmente conectadas. A primeira camada Densa tem 128 nós (ou neurônios). A segunda (e última) camada retorna uma matriz logits com comprimento de 10. Cada nó contém uma pontuação que indica que a imagem atual pertence a uma das 10 classes.\n",
        "\n",
        "Compile o modelo\n",
        "Antes que o modelo esteja pronto para o treinamento, ele precisa de mais algumas configurações. Eles são adicionados durante a etapa de compilação do modelo:\n",
        "\n",
        "Função de perda - mede a precisão do modelo durante o treinamento. Você deseja minimizar esta função para \"orientar\" o modelo na direção certa.\n",
        "Otimizador - É assim que o modelo é atualizado com base nos dados que vê e em sua função de perda.\n",
        "Métricas - Usadas para monitorar as etapas de treinamento e teste. O exemplo a seguir usa precisão, a fração das imagens que são classificadas corretamente."
      ]
    },
    {
      "cell_type": "code",
      "metadata": {
        "id": "Lhan11blCaW7"
      },
      "source": [
        "model.compile(optimizer='adam',\n",
        "              loss=tf.keras.losses.SparseCategoricalCrossentropy(from_logits=True),\n",
        "              metrics=['accuracy'])"
      ],
      "execution_count": null,
      "outputs": []
    },
    {
      "cell_type": "markdown",
      "metadata": {
        "id": "qKF6uW-BCaW-"
      },
      "source": [
        "## Treine o modelo\n",
        "\n",
        "O treinamento do modelo de rede neural requer as seguintes etapas:\n",
        "\n",
        "1. Alimente o modelo com os dados de treinamento. Neste exemplo, os dados de treinamento estão nos arrays `train_images` e` train_labels`.\n",
        "2. O modelo aprende a associar imagens e rótulos.\n",
        "3. Você pede ao modelo para fazer previsões sobre um conjunto de teste - neste exemplo, o array `test_images`.\n",
        "4. Verifique se as previsões correspondem aos rótulos da matriz `test_labels`.\n"
      ]
    },
    {
      "cell_type": "markdown",
      "metadata": {
        "id": "Z4P4zIV7E28Z"
      },
      "source": [
        "### Alimente o modelo\n",
        "Para iniciar o treinamento, chame o método model.fit, assim chamado porque \"ajusta\" o modelo aos dados de treinamento:"
      ]
    },
    {
      "cell_type": "code",
      "metadata": {
        "id": "xvwvpA64CaW_",
        "colab": {
          "base_uri": "https://localhost:8080/"
        },
        "outputId": "d66d2736-9bdf-4183-d826-b996c0b0b4d8"
      },
      "source": [
        "model.fit(train_images, train_labels, epochs=15)"
      ],
      "execution_count": null,
      "outputs": [
        {
          "output_type": "stream",
          "text": [
            "Epoch 1/15\n",
            "1875/1875 [==============================] - 4s 2ms/step - loss: 0.4258 - accuracy: 0.8512\n",
            "Epoch 2/15\n",
            "1875/1875 [==============================] - 4s 2ms/step - loss: 0.4195 - accuracy: 0.8534\n",
            "Epoch 3/15\n",
            "1875/1875 [==============================] - 4s 2ms/step - loss: 0.4138 - accuracy: 0.8557\n",
            "Epoch 4/15\n",
            "1875/1875 [==============================] - 3s 2ms/step - loss: 0.4091 - accuracy: 0.8562\n",
            "Epoch 5/15\n",
            "1875/1875 [==============================] - 3s 2ms/step - loss: 0.4040 - accuracy: 0.8592\n",
            "Epoch 6/15\n",
            "1875/1875 [==============================] - 4s 2ms/step - loss: 0.3995 - accuracy: 0.8601\n",
            "Epoch 7/15\n",
            "1875/1875 [==============================] - 3s 2ms/step - loss: 0.3959 - accuracy: 0.8609\n",
            "Epoch 8/15\n",
            "1875/1875 [==============================] - 4s 2ms/step - loss: 0.3916 - accuracy: 0.8637\n",
            "Epoch 9/15\n",
            "1875/1875 [==============================] - 4s 2ms/step - loss: 0.3884 - accuracy: 0.8627\n",
            "Epoch 10/15\n",
            "1875/1875 [==============================] - 4s 2ms/step - loss: 0.3845 - accuracy: 0.8658\n",
            "Epoch 11/15\n",
            "1875/1875 [==============================] - 3s 2ms/step - loss: 0.3811 - accuracy: 0.8660\n",
            "Epoch 12/15\n",
            "1875/1875 [==============================] - 4s 2ms/step - loss: 0.3775 - accuracy: 0.8678\n",
            "Epoch 13/15\n",
            "1875/1875 [==============================] - 4s 2ms/step - loss: 0.3746 - accuracy: 0.8680\n",
            "Epoch 14/15\n",
            "1875/1875 [==============================] - 4s 2ms/step - loss: 0.3718 - accuracy: 0.8694\n",
            "Epoch 15/15\n",
            "1875/1875 [==============================] - 4s 2ms/step - loss: 0.3691 - accuracy: 0.8705\n"
          ],
          "name": "stdout"
        },
        {
          "output_type": "execute_result",
          "data": {
            "text/plain": [
              "<tensorflow.python.keras.callbacks.History at 0x7febc9af7518>"
            ]
          },
          "metadata": {
            "tags": []
          },
          "execution_count": 21
        }
      ]
    },
    {
      "cell_type": "markdown",
      "metadata": {
        "id": "W3ZVOhugCaXA"
      },
      "source": [
        "Conforme o modelo treina, as métricas de perda e precisão são exibidas. Este modelo atinge uma precisão de cerca de 0,91 (ou 91%) nos dados de treinamento."
      ]
    },
    {
      "cell_type": "markdown",
      "metadata": {
        "id": "wCpr6DGyE28h"
      },
      "source": [
        "### Avalie a precisão\n",
        "\n",
        "Em seguida, compare o desempenho do modelo no conjunto de dados de teste:"
      ]
    },
    {
      "cell_type": "code",
      "metadata": {
        "id": "VflXLEeECaXC",
        "colab": {
          "base_uri": "https://localhost:8080/"
        },
        "outputId": "07e1d7ec-5b48-4eb4-ba3c-7462544f8421"
      },
      "source": [
        "test_loss, test_acc = model.evaluate(test_images,  test_labels, verbose=2)\n",
        "\n",
        "print('\\nTest accuracy:', test_acc)"
      ],
      "execution_count": null,
      "outputs": [
        {
          "output_type": "stream",
          "text": [
            "313/313 - 1s - loss: 0.4108 - accuracy: 0.8537\n",
            "\n",
            "Test accuracy: 0.8536999821662903\n"
          ],
          "name": "stdout"
        }
      ]
    },
    {
      "cell_type": "markdown",
      "metadata": {
        "id": "yWfgsmVXCaXG"
      },
      "source": [
        "Acontece que a precisão no conjunto de dados de teste é um pouco menor do que a precisão no conjunto de dados de treinamento. Esta lacuna entre a precisão do treinamento e a precisão do teste representa * sobreajuste *. O sobreajuste acontece quando um modelo de aprendizado de máquina tem desempenho pior em entradas novas e não vistas do que nos dados de treinamento. Um modelo superaquecido \"memoriza\" o ruído e os detalhes no conjunto de dados de treinamento até um ponto em que afeta negativamente o desempenho do modelo nos novos dados. Para obter mais informações, consulte o seguinte:\n",
        "* [Demonstrar overfitting] (https://www.tensorflow.org/tutorials/keras/overfit_and_underfit#demonstrate_overfitting)\n",
        "* [Estratégias para evitar overfitting] (https://www.tensorflow.org/tutorials/keras/overfit_and_underfit#strategies_to_prevent_overfitting)"
      ]
    },
    {
      "cell_type": "markdown",
      "metadata": {
        "id": "v-PyD1SYE28q"
      },
      "source": [
        "### Fazer previsões\n",
        "\n",
        "Com o modelo treinado, você pode usá-lo para fazer previsões sobre algumas imagens.\n",
        "As saídas lineares do modelo, [logits] (https://developers.google.com/machine-learning/glossary#logits). Anexe uma camada softmax para converter os logits em probabilidades, que são mais fáceis de interpretar."
      ]
    },
    {
      "cell_type": "code",
      "metadata": {
        "id": "DnfNA0CrQLSD"
      },
      "source": [
        "probability_model = tf.keras.Sequential([model, \n",
        "                                         tf.keras.layers.Softmax()])"
      ],
      "execution_count": null,
      "outputs": []
    },
    {
      "cell_type": "code",
      "metadata": {
        "id": "Gl91RPhdCaXI"
      },
      "source": [
        "predictions = probability_model.predict(test_images)"
      ],
      "execution_count": null,
      "outputs": []
    },
    {
      "cell_type": "markdown",
      "metadata": {
        "id": "x9Kk1voUCaXJ"
      },
      "source": [
        "Aqui, o modelo previu o rótulo de cada imagem no conjunto de teste. Vamos dar uma olhada na primeira previsão:"
      ]
    },
    {
      "cell_type": "code",
      "metadata": {
        "id": "3DmJEUinCaXK",
        "colab": {
          "base_uri": "https://localhost:8080/"
        },
        "outputId": "7c2dcc3a-befb-4cda-df42-ce2cf77ff414"
      },
      "source": [
        "predictions[0]"
      ],
      "execution_count": null,
      "outputs": [
        {
          "output_type": "execute_result",
          "data": {
            "text/plain": [
              "array([2.0867689e-07, 7.7408302e-09, 2.5315285e-06, 2.8312702e-06,\n",
              "       8.6412174e-06, 1.0192273e-01, 7.2502012e-06, 8.0197491e-02,\n",
              "       3.3671826e-03, 8.1449115e-01], dtype=float32)"
            ]
          },
          "metadata": {
            "tags": []
          },
          "execution_count": 25
        }
      ]
    },
    {
      "cell_type": "markdown",
      "metadata": {
        "id": "-hw1hgeSCaXN"
      },
      "source": [
        "Uma previsão é uma matriz de 10 números. Eles representam a \"confiança\" da modelo de que a imagem corresponde a cada uma das 10 diferentes peças de roupa. Você pode ver qual rótulo tem o maior valor de confiança:"
      ]
    },
    {
      "cell_type": "code",
      "metadata": {
        "id": "qsqenuPnCaXO",
        "colab": {
          "base_uri": "https://localhost:8080/"
        },
        "outputId": "beb39cdc-f54b-4d55-b715-e5e4c8f32fd7"
      },
      "source": [
        "np.argmax(predictions[0])"
      ],
      "execution_count": null,
      "outputs": [
        {
          "output_type": "execute_result",
          "data": {
            "text/plain": [
              "9"
            ]
          },
          "metadata": {
            "tags": []
          },
          "execution_count": 26
        }
      ]
    },
    {
      "cell_type": "markdown",
      "metadata": {
        "id": "E51yS7iCCaXO"
      },
      "source": [
        "Portanto, o modelo está mais confiante de que esta imagem é uma bota de tornozelo, ou `class_names [9]`. O exame do rótulo do teste mostra que esta classificação está correta:"
      ]
    },
    {
      "cell_type": "code",
      "metadata": {
        "id": "Sd7Pgsu6CaXP",
        "colab": {
          "base_uri": "https://localhost:8080/"
        },
        "outputId": "eb7330b8-4e87-40c2-a8af-a44883b2465b"
      },
      "source": [
        "test_labels[0]"
      ],
      "execution_count": null,
      "outputs": [
        {
          "output_type": "execute_result",
          "data": {
            "text/plain": [
              "9"
            ]
          },
          "metadata": {
            "tags": []
          },
          "execution_count": 27
        }
      ]
    },
    {
      "cell_type": "markdown",
      "metadata": {
        "id": "ygh2yYC972ne"
      },
      "source": [
        "Faça um gráfico para ver o conjunto completo de 10 previsões de classe."
      ]
    },
    {
      "cell_type": "code",
      "metadata": {
        "id": "DvYmmrpIy6Y1"
      },
      "source": [
        "def plot_image(i, predictions_array, true_label, img):\n",
        "  true_label, img = true_label[i], img[i]\n",
        "  plt.grid(False)\n",
        "  plt.xticks([])\n",
        "  plt.yticks([])\n",
        "\n",
        "  plt.imshow(img, cmap=plt.cm.binary)\n",
        "\n",
        "  predicted_label = np.argmax(predictions_array)\n",
        "  if predicted_label == true_label:\n",
        "    color = 'blue'\n",
        "  else:\n",
        "    color = 'red'\n",
        "\n",
        "  plt.xlabel(\"{} {:2.0f}% ({})\".format(class_names[predicted_label],\n",
        "                                100*np.max(predictions_array),\n",
        "                                class_names[true_label]),\n",
        "                                color=color)\n",
        "\n",
        "def plot_value_array(i, predictions_array, true_label):\n",
        "  true_label = true_label[i]\n",
        "  plt.grid(False)\n",
        "  plt.xticks(range(10))\n",
        "  plt.yticks([])\n",
        "  thisplot = plt.bar(range(10), predictions_array, color=\"#777777\")\n",
        "  plt.ylim([0, 1])\n",
        "  predicted_label = np.argmax(predictions_array)\n",
        "\n",
        "  thisplot[predicted_label].set_color('red')\n",
        "  thisplot[true_label].set_color('blue')"
      ],
      "execution_count": null,
      "outputs": []
    },
    {
      "cell_type": "markdown",
      "metadata": {
        "id": "Zh9yABaME29S"
      },
      "source": [
        "### Verifique as previsões\n",
        "\n",
        "Com o modelo treinado, você pode usá-lo para fazer previsões sobre algumas imagens."
      ]
    },
    {
      "cell_type": "markdown",
      "metadata": {
        "id": "d4Ov9OFDMmOD"
      },
      "source": [
        "Vejamos a 0ª imagem, previsões e array de previsões. Os rótulos de predição corretos são azuis e os rótulos de predição incorretos são vermelhos. O número fornece a porcentagem (de 100) para o rótulo previsto."
      ]
    },
    {
      "cell_type": "code",
      "metadata": {
        "id": "HV5jw-5HwSmO",
        "colab": {
          "base_uri": "https://localhost:8080/",
          "height": 211
        },
        "outputId": "75bbbbb1-e53f-41ed-8a88-9d14b2e1e6fe"
      },
      "source": [
        "i = 0\n",
        "plt.figure(figsize=(6,3))\n",
        "plt.subplot(1,2,1)\n",
        "plot_image(i, predictions[i], test_labels, test_images)\n",
        "plt.subplot(1,2,2)\n",
        "plot_value_array(i, predictions[i],  test_labels)\n",
        "plt.show()"
      ],
      "execution_count": null,
      "outputs": [
        {
          "output_type": "display_data",
          "data": {
            "image/png": "[encoded data removed]",
            "text/plain": [
              "<Figure size 432x216 with 2 Axes>"
            ]
          },
          "metadata": {
            "tags": [],
            "needs_background": "light"
          }
        }
      ]
    },
    {
      "cell_type": "code",
      "metadata": {
        "id": "Ko-uzOufSCSe",
        "colab": {
          "base_uri": "https://localhost:8080/",
          "height": 211
        },
        "outputId": "c0731603-8716-424a-ff4b-e510237d3703"
      },
      "source": [
        "i = 12\n",
        "plt.figure(figsize=(6,3))\n",
        "plt.subplot(1,2,1)\n",
        "plot_image(i, predictions[i], test_labels, test_images)\n",
        "plt.subplot(1,2,2)\n",
        "plot_value_array(i, predictions[i],  test_labels)\n",
        "plt.show()"
      ],
      "execution_count": null,
      "outputs": [
        {
          "output_type": "display_data",
          "data": {
            "image/png": "[encoded data removed]",
            "text/plain": [
              "<Figure size 432x216 with 2 Axes>"
            ]
          },
          "metadata": {
            "tags": [],
            "needs_background": "light"
          }
        }
      ]
    },
    {
      "cell_type": "markdown",
      "metadata": {
        "id": "kgdvGD52CaXR"
      },
      "source": [
        "Vamos plotar várias imagens com suas previsões. Observe que o modelo pode estar errado mesmo quando muito confiante."
      ]
    },
    {
      "cell_type": "code",
      "metadata": {
        "id": "hQlnbqaw2Qu_",
        "colab": {
          "base_uri": "https://localhost:8080/",
          "height": 729
        },
        "outputId": "d76f34fe-4b6c-44d6-b701-5488facf2bd4"
      },
      "source": [
        "# Plot the first X test images, their predicted labels, and the true labels.\n",
        "# Color correct predictions in blue and incorrect predictions in red.\n",
        "num_rows = 5\n",
        "num_cols = 3\n",
        "num_images = num_rows*num_cols\n",
        "plt.figure(figsize=(2*2*num_cols, 2*num_rows))\n",
        "for i in range(num_images):\n",
        "  plt.subplot(num_rows, 2*num_cols, 2*i+1)\n",
        "  plot_image(i, predictions[i], test_labels, test_images)\n",
        "  plt.subplot(num_rows, 2*num_cols, 2*i+2)\n",
        "  plot_value_array(i, predictions[i], test_labels)\n",
        "plt.tight_layout()\n",
        "plt.show()"
      ],
      "execution_count": null,
      "outputs": [
        {
          "output_type": "display_data",
          "data": {
            "image/png": "[encoded data removed]",
            "text/plain": [
              "<Figure size 864x720 with 30 Axes>"
            ]
          },
          "metadata": {
            "tags": [],
            "needs_background": "light"
          }
        }
      ]
    },
    {
      "cell_type": "markdown",
      "metadata": {
        "id": "R32zteKHCaXT"
      },
      "source": [
        "## Use o modelo treinado\n",
        "\n",
        "Por fim, use o modelo treinado para fazer uma previsão sobre uma única imagem."
      ]
    },
    {
      "cell_type": "code",
      "metadata": {
        "id": "yRJ7JU7JCaXT",
        "colab": {
          "base_uri": "https://localhost:8080/"
        },
        "outputId": "fef1836e-e2d5-445a-b96c-1d5a11d38d11"
      },
      "source": [
        "# Grab an image from the test dataset.\n",
        "img = test_images[1]\n",
        "\n",
        "print(img.shape)"
      ],
      "execution_count": null,
      "outputs": [
        {
          "output_type": "stream",
          "text": [
            "(28, 28)\n"
          ],
          "name": "stdout"
        }
      ]
    },
    {
      "cell_type": "markdown",
      "metadata": {
        "id": "vz3bVp21CaXV"
      },
      "source": [
        "Os modelos `tf.keras` são otimizados para fazer previsões em um * lote *, ou coleção, de exemplos de uma vez. Da mesma forma, mesmo que você esteja usando uma única imagem, você precisa adicioná-la a uma lista:"
      ]
    },
    {
      "cell_type": "code",
      "metadata": {
        "id": "lDFh5yF_CaXW",
        "colab": {
          "base_uri": "https://localhost:8080/"
        },
        "outputId": "46a38908-49de-4446-c639-4f18fca86647"
      },
      "source": [
        "# Add the image to a batch where it's the only member.\n",
        "img = (np.expand_dims(img,0))\n",
        "\n",
        "print(img.shape)"
      ],
      "execution_count": null,
      "outputs": [
        {
          "output_type": "stream",
          "text": [
            "(1, 1, 28, 28)\n"
          ],
          "name": "stdout"
        }
      ]
    },
    {
      "cell_type": "markdown",
      "metadata": {
        "id": "EQ5wLTkcCaXY"
      },
      "source": [
        "Agora preveja o rótulo correto para esta imagem:"
      ]
    },
    {
      "cell_type": "code",
      "metadata": {
        "id": "o_rzNSdrCaXY",
        "colab": {
          "base_uri": "https://localhost:8080/"
        },
        "outputId": "6db3e1d3-74a9-4f16-8b52-00ff15efb3e4"
      },
      "source": [
        "predictions_single = probability_model.predict(img)\n",
        "\n",
        "print(predictions_single)"
      ],
      "execution_count": null,
      "outputs": [
        {
          "output_type": "stream",
          "text": [
            "WARNING:tensorflow:Model was constructed with shape (None, 28, 28) for input KerasTensor(type_spec=TensorSpec(shape=(None, 28, 28), dtype=tf.float32, name='sequential_input'), name='sequential_input', description=\"created by layer 'sequential_input'\"), but it was called on an input with incompatible shape (None, 1, 28, 28).\n",
            "WARNING:tensorflow:Model was constructed with shape (None, 28, 28) for input KerasTensor(type_spec=TensorSpec(shape=(None, 28, 28), dtype=tf.float32, name='flatten_input'), name='flatten_input', description=\"created by layer 'flatten_input'\"), but it was called on an input with incompatible shape (None, 1, 28, 28).\n",
            "[[5.8882358e-04 3.1167349e-06 9.3151206e-01 4.9778191e-05 1.6755693e-02\n",
            "  6.0231000e-12 5.0991476e-02 5.6923375e-21 9.9028141e-05 1.1730677e-14]]\n"
          ],
          "name": "stdout"
        }
      ]
    },
    {
      "cell_type": "code",
      "metadata": {
        "id": "6Ai-cpLjO-3A",
        "colab": {
          "base_uri": "https://localhost:8080/",
          "height": 300
        },
        "outputId": "a3718f4b-7172-46ee-cce0-c25d53e87a1a"
      },
      "source": [
        "plot_value_array(1, predictions_single[0], test_labels)\n",
        "_ = plt.xticks(range(10), class_names, rotation=45)"
      ],
      "execution_count": null,
      "outputs": [
        {
          "output_type": "display_data",
          "data": {
            "image/png": "[encoded data removed]",
            "text/plain": [
              "<Figure size 432x288 with 1 Axes>"
            ]
          },
          "metadata": {
            "tags": [],
            "needs_background": "light"
          }
        }
      ]
    },
    {
      "cell_type": "markdown",
      "metadata": {
        "id": "cU1Y2OAMCaXb"
      },
      "source": [
        "`tf.keras.Model.predict` retorna uma lista de listas - uma lista para cada imagem no lote de dados. Pegue as previsões para nossa (única) imagem no lote:"
      ]
    },
    {
      "cell_type": "code",
      "metadata": {
        "id": "2tRmdq_8CaXb",
        "colab": {
          "base_uri": "https://localhost:8080/"
        },
        "outputId": "b2139d4d-49b9-4452-f0a7-9689fd223ef4"
      },
      "source": [
        "np.argmax(predictions_single[0])"
      ],
      "execution_count": null,
      "outputs": [
        {
          "output_type": "execute_result",
          "data": {
            "text/plain": [
              "2"
            ]
          },
          "metadata": {
            "tags": []
          },
          "execution_count": 37
        }
      ]
    },
    {
      "cell_type": "markdown",
      "metadata": {
        "id": "YFc2HbEVCaXd"
      },
      "source": [
        "E o modelo prevê um rótulo conforme o esperado."
      ]
    },
    {
      "cell_type": "code",
      "metadata": {
        "id": "_W-stuEpY8lf"
      },
      "source": [
        ""
      ],
      "execution_count": null,
      "outputs": []
    }
  ]
}